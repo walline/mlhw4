{
 "cells": [
  {
   "cell_type": "markdown",
   "metadata": {},
   "source": [
    "$\\qquad$ $\\qquad$$\\qquad$  **TDA 231 Machine Learning: Homework 4** <br />\n",
    "$\\qquad$ $\\qquad$$\\qquad$ **Goal: Support Vector Machines**<br />\n",
    "$\\qquad$ $\\qquad$$\\qquad$                   **Grader: Vasileios** <br />\n",
    "$\\qquad$ $\\qquad$$\\qquad$                     **Due Date: 14/5** <br />\n",
    "$\\qquad$ $\\qquad$$\\qquad$                   **Submitted by: Oscar Bark, 950711-5831, baoscar@student.chalmers.se  &nbsp;&nbsp;&nbsp; & &nbsp;&nbsp;&nbsp;  Erik Wallin, 911209-1591, walline@student.chalmers.se** <br />"
   ]
  },
  {
   "cell_type": "markdown",
   "metadata": {},
   "source": [
    "General guidelines:\n",
    "* All solutions to theoretical problems, can be submitted as a single file named *report.pdf*. They can also be submitted in this ipynb notebook, but equations wherever required, should be formatted using LaTeX math-mode.\n",
    "* All discussion regarding practical problems, along with solutions and plots should be specified here itself. We will not generate the solutions/plots again by running your code.\n",
    "* Your name, personal number and email address should be specified above and also in your file *report.pdf*.\n",
    "* All datasets can be downloaded from the course website.\n",
    "* All tables and other additional information should be included."
   ]
  },
  {
   "cell_type": "markdown",
   "metadata": {},
   "source": [
    "# Theoretical problems\n",
    "\n",
    "## [SVM, 5 points]\n",
    "\n",
    "Consider a (hard margin) SVM with the following training points from\n",
    "two classes:\n",
    "\\begin{eqnarray}\n",
    "+1: &(2,2), (4,4), (4,0) \\nonumber \\\\\n",
    "-1: &(0,0), (2,0), (0,2) \\nonumber\n",
    "\\end{eqnarray}\n",
    "\n",
    "Plot these six training points, and construct by inspection the\n",
    "weight vector for the optimal hyperplane. In your solution, specify\n",
    "the hyperplane in terms of w and b such that $w_1 x_1 + w_2 x_2 + b =\n",
    "0$. Calculate what the margin is (i.e., $2\\gamma$ where $\\gamma$ is the\n",
    "distance from the hyperplane to its closest data point), showing all\n",
    "of your work. (Hint: It may be useful to recall that the distance of a point $(a_1,a_2)$ from the line $w_1x_1 + w_2x_2 + b = 0$ is $|w_1a_1 + w_2a_2 + b|/\\sqrt{w_1^2 + w_2^2}$.)\n",
    "\n",
    "## Solution:"
   ]
  },
  {
   "cell_type": "code",
   "execution_count": 20,
   "metadata": {},
   "outputs": [
    {
     "ename": "TypeError",
     "evalue": "'str' object is not callable",
     "output_type": "error",
     "traceback": [
      "\u001b[1;31m---------------------------------------------------------------------------\u001b[0m",
      "\u001b[1;31mTypeError\u001b[0m                                 Traceback (most recent call last)",
      "\u001b[1;32m<ipython-input-20-76e434d97683>\u001b[0m in \u001b[0;36m<module>\u001b[1;34m()\u001b[0m\n\u001b[0;32m      9\u001b[0m \u001b[0mplt\u001b[0m\u001b[1;33m.\u001b[0m\u001b[0mscatter\u001b[0m\u001b[1;33m(\u001b[0m\u001b[0mX\u001b[0m\u001b[1;33m[\u001b[0m\u001b[0mposIndex\u001b[0m\u001b[1;33m,\u001b[0m\u001b[1;36m0\u001b[0m\u001b[1;33m]\u001b[0m\u001b[1;33m,\u001b[0m \u001b[0mX\u001b[0m\u001b[1;33m[\u001b[0m\u001b[0mposIndex\u001b[0m\u001b[1;33m,\u001b[0m\u001b[1;36m1\u001b[0m\u001b[1;33m]\u001b[0m\u001b[1;33m,\u001b[0m \u001b[0mmarker\u001b[0m\u001b[1;33m=\u001b[0m\u001b[1;34m'x'\u001b[0m\u001b[1;33m)\u001b[0m\u001b[1;33m\u001b[0m\u001b[0m\n\u001b[0;32m     10\u001b[0m \u001b[0mplt\u001b[0m\u001b[1;33m.\u001b[0m\u001b[0mscatter\u001b[0m\u001b[1;33m(\u001b[0m\u001b[0mX\u001b[0m\u001b[1;33m[\u001b[0m\u001b[0mnegIndex\u001b[0m\u001b[1;33m,\u001b[0m\u001b[1;36m0\u001b[0m\u001b[1;33m]\u001b[0m\u001b[1;33m,\u001b[0m \u001b[0mX\u001b[0m\u001b[1;33m[\u001b[0m\u001b[0mnegIndex\u001b[0m\u001b[1;33m,\u001b[0m\u001b[1;36m1\u001b[0m\u001b[1;33m]\u001b[0m\u001b[1;33m,\u001b[0m \u001b[0mmarker\u001b[0m\u001b[1;33m=\u001b[0m\u001b[1;34m'o'\u001b[0m\u001b[1;33m)\u001b[0m\u001b[1;33m\u001b[0m\u001b[0m\n\u001b[1;32m---> 11\u001b[1;33m \u001b[0mplt\u001b[0m\u001b[1;33m.\u001b[0m\u001b[0mxlabel\u001b[0m\u001b[1;33m(\u001b[0m\u001b[1;34m'x_1'\u001b[0m\u001b[1;33m)\u001b[0m\u001b[1;33m\u001b[0m\u001b[0m\n\u001b[0m\u001b[0;32m     12\u001b[0m \u001b[0mplt\u001b[0m\u001b[1;33m.\u001b[0m\u001b[0mylabel\u001b[0m\u001b[1;33m(\u001b[0m\u001b[1;34m'x_2'\u001b[0m\u001b[1;33m)\u001b[0m\u001b[1;33m\u001b[0m\u001b[0m\n\u001b[0;32m     13\u001b[0m \u001b[1;33m\u001b[0m\u001b[0m\n",
      "\u001b[1;31mTypeError\u001b[0m: 'str' object is not callable"
     ]
    },
    {
     "data": {
      "image/png": "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\n",
      "text/plain": [
       "<Figure size 432x288 with 1 Axes>"
      ]
     },
     "metadata": {},
     "output_type": "display_data"
    }
   ],
   "source": [
    "import matplotlib.pyplot as plt\n",
    "import numpy as np\n",
    "\n",
    "X = np.asarray([[2,2], [4,4], [4,0], [0,0], [2,0], [0,2]])\n",
    "labels = np.asarray([1,1,1,-1,-1,-1])\n",
    "\n",
    "posIndex = np.where(labels==1)\n",
    "negIndex = np.where(labels==-1)\n",
    "plt.scatter(X[posIndex,0], X[posIndex,1], marker='x')\n",
    "plt.scatter(X[negIndex,0], X[negIndex,1], marker='o')\n",
    "plt.xlabel('x_1')\n",
    "plt.ylabel('x_2')\n",
    "\n",
    "#plt.plot([3, 1], [0, 2])"
   ]
  },
  {
   "cell_type": "markdown",
   "metadata": {},
   "source": [
    "By inspection, we identify the optimal hyperplane to be the line passing through the points $(3,0)$ and $(1,2)$. This line can be expressed as $w_1 x_1  + w_2 x_2 + b = 0$. The line coefficients $w_1$ and $w_2$, as well as the offset $b$ are obtained by solving for their relationship in the equation system given by the line passing through the two above specified points, and then assigning an arbitrary value to either coefficient.\n",
    "\n",
    "$$ \\left\\{ \\begin{array}{c}\n",
    "    3w_1 + b = 0  \\\\\n",
    "    w_1 + 2w_2 + b = 0  \n",
    "\\end{array} \\right. \\iff \\left\\{ \\begin{array}{c}\n",
    "    w_2 = 2w_1  \\\\\n",
    "    b=3w_1  \n",
    "\\end{array} \\right. $$\n",
    "\n",
    "By setting $w_1=1$, we obtain the expression for the line:\n",
    "\n",
    "$$ x_1 + 2x_2 +3 = 0 $$\n",
    "\n",
    "The margin is simply calculated as $2\\gamma$ where $\\gamma$ is the orthogonal distance from the closest point to the line. The points $(0,2)$, $(2,0)$, $(2,2)$ and $(4,0)$ are equally close. Using the point $(0,2)$ to calculate $\\gamma$, we obtain by the given formula for orthogonal distance:\n",
    "\n",
    "$$ \\gamma = \\frac{\\left|1\\cdot0 + 2\\cdot 2 + 3\\right|}{\\sqrt{1^2 + 2^2}} = \\frac{7}{\\sqrt{5}}$$\n",
    "\n",
    "Finally, the margin is given by:\n",
    "\n",
    "$$2\\gamma = \\frac{14}{\\sqrt{5}} \\approx 6.261 $$"
   ]
  },
  {
   "cell_type": "markdown",
   "metadata": {},
   "source": [
    "## [SVM cont'd, 5 points]\n",
    "\n",
    "\n",
    "Consider the same problem from above.\n",
    "\n",
    "a. Write the primal formulation of the SVM **for this specific example** i.e. you have to specialise the general formulation for the set of inputs given.\n",
    "\n",
    "b. Give the optimal primal solution **for this specific**.\n",
    "\n",
    "c. Write the dual formulation **for this specific**.\n",
    "\n",
    "d. Give the optimal dual solution, comment on support vectors."
   ]
  },
  {
   "cell_type": "markdown",
   "metadata": {},
   "source": [
    "## Solutions\n",
    "\n",
    "c. $$ \\underset{\\boldsymbol{\\alpha}}{\\operatorname{argmax}} \\sum_{n=1}^{6}{\\alpha_n} - \n",
    "\\frac{1}{2} \\left( \\right)$$\n",
    "\n",
    "d. "
    "**a.**\n",
    "\n",
    "$$\n",
    "\\text{argmin}_{w_1, w_2} \\frac{1}{2} (w_1^2+w_2^2)\n",
    "$$\n",
    "subject to:\n",
    "\\begin{align}\n",
    "2 w_1 + 2 w_2 +b &\\geq 1 \\\\\n",
    "4 w_1 + 4 w_2 +b &\\geq 1 \\\\\n",
    "4 w_1 + 0 w_2 +b &\\geq 1 \\\\\n",
    "-(0 w_1 + 0 w_2 +b) &\\geq 1 \\\\\n",
    "-(2 w_1 + 0 w_2 +b) &\\geq 1 \\\\\n",
    "-(0 w_1 + 2 w_2 +b) &\\geq 1 \n",
    "\\end{align}\n",
    "\n",
    "**b.**\n",
    "\n"
   ]
  },
  {
   "cell_type": "markdown",
   "metadata": {},
   "source": [
    "# Practical problems\n",
    "\n",
    "All data files can be loaded using the following code for example:\n",
    "```python\n",
    "import numpy as np\n",
    "data = np.loadtxt('d1.txt')\n",
    "X = data[:,:2]\n",
    "Y = data[:,-1]\n",
    "```\n",
    "\n",
    "For this assigment, you may use sklearn.svm.SVC or sklearn.svm.NuSVC. \n",
    "\n",
    "## [SVM, 5 points]\n",
    "\n",
    "Consider the dataset **d1.txt** having two-dimensional points $X$ and corresponding labels $Y$.\n",
    "\n",
    "a. Train an SVM (with linear kernel) on the above data.\n",
    "\n",
    "b. Plot the data and the separating hyperplane of the trained classifier. Color the points of one class red and the other blue. Mark points that could not be separated correctly. Also, mark the support vectors.\n",
    "\n",
    "c. Does the classifier have bias, and if so, what is it?\n",
    "\n",
    "d. What is the (soft) margin?\n",
    "\n",
    "## Solution:"
   ]
  },
  {
   "cell_type": "code",
   "execution_count": null,
   "metadata": {},
   "outputs": [],
   "source": [
    "import numpy as np\n",
    "data = np.loadtxt('d1.txt')\n",
    "X = data[:,:2]\n",
    "Y = data[:,-1]"
   ]
  },
  {
   "cell_type": "markdown",
   "metadata": {},
   "source": [
    "a."
   ]
  },
  {
   "cell_type": "code",
   "execution_count": null,
   "metadata": {},
   "outputs": [],
   "source": []
  },
  {
   "cell_type": "markdown",
   "metadata": {},
   "source": [
    "b."
   ]
  },
  {
   "cell_type": "code",
   "execution_count": null,
   "metadata": {},
   "outputs": [],
   "source": []
  },
  {
   "cell_type": "markdown",
   "metadata": {},
   "source": [
    "c."
   ]
  },
  {
   "cell_type": "code",
   "execution_count": null,
   "metadata": {},
   "outputs": [],
   "source": []
  },
  {
   "cell_type": "markdown",
   "metadata": {},
   "source": [
    "d."
   ]
  },
  {
   "cell_type": "code",
   "execution_count": null,
   "metadata": {},
   "outputs": [],
   "source": []
  },
  {
   "cell_type": "markdown",
   "metadata": {},
   "source": [
    "## [Kernels, 5 points]\n",
    "\n",
    "Download the dataset **d2.txt**. Consider the following kernels.\n",
    "\n",
    "* Linear kernel\n",
    "* Quadratic kernel \n",
    "* Radial Basis Function (RBF) kernel\n",
    "\n",
    "a. Train an SVM with the linear kernel on all of the data (d2.txt). Plot the data. Color the points of one class red and the other blue. Mark points that could not be separated correctly by the trained model.\n",
    "\n",
    "b. Plot the decision surfaces for the Quadratic and RBF kernel seperately."
   ]
  }
 ],
 "metadata": {
  "kernelspec": {
   "display_name": "Python 3",
   "language": "python",
   "name": "python3"
  },
  "language_info": {
   "codemirror_mode": {
    "name": "ipython",
    "version": 3
   },
   "file_extension": ".py",
   "mimetype": "text/x-python",
   "name": "python",
   "nbconvert_exporter": "python",
   "pygments_lexer": "ipython3",
<<<<<<< HEAD
   "version": "3.6.3"
=======
   "version": "3.5.2"
>>>>>>> 7579fc2d1c512a40acf93da2d07a40f9991aacd5
  }
 },
 "nbformat": 4,
 "nbformat_minor": 2
}
